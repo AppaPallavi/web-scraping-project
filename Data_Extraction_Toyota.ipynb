{
  "nbformat": 4,
  "nbformat_minor": 0,
  "metadata": {
    "colab": {
      "provenance": []
    },
    "kernelspec": {
      "name": "python3",
      "display_name": "Python 3"
    },
    "language_info": {
      "name": "python"
    }
  },
  "cells": [
    {
      "cell_type": "code",
      "execution_count": null,
      "metadata": {
        "id": "u4XMIRSNGKvH"
      },
      "outputs": [],
      "source": [
        "from bs4 import BeautifulSoup"
      ]
    },
    {
      "cell_type": "code",
      "source": [
        "import requests"
      ],
      "metadata": {
        "id": "xaJwWhdzGcjX"
      },
      "execution_count": null,
      "outputs": []
    },
    {
      "cell_type": "code",
      "source": [
        "website='https://www.cars24.com/buy-used-car/?f=make%3A%3D%3Atoyota&sort=bestmatch&serveWarrantyCount=true&gaId=2008015707.1720107242&listingSource=Homepage_Filters&storeCityId=2378'"
      ],
      "metadata": {
        "id": "5dJlXUwLGkZH"
      },
      "execution_count": null,
      "outputs": []
    },
    {
      "cell_type": "code",
      "source": [
        "response=requests.get(website)"
      ],
      "metadata": {
        "id": "HYO8uAydG2mS"
      },
      "execution_count": null,
      "outputs": []
    },
    {
      "cell_type": "code",
      "source": [
        "requests.get(website)\n"
      ],
      "metadata": {
        "colab": {
          "base_uri": "https://localhost:8080/"
        },
        "id": "PTW80LNFG_Rr",
        "outputId": "b815d1e9-7507-4ef2-cbe8-08639733a4a4"
      },
      "execution_count": null,
      "outputs": [
        {
          "output_type": "execute_result",
          "data": {
            "text/plain": [
              "<Response [200]>"
            ]
          },
          "metadata": {},
          "execution_count": 8
        }
      ]
    },
    {
      "cell_type": "code",
      "source": [
        "soup=BeautifulSoup(response.content,'html.parser')"
      ],
      "metadata": {
        "id": "h3LfplC8HMxh"
      },
      "execution_count": null,
      "outputs": []
    },
    {
      "cell_type": "code",
      "source": [
        "results= soup.find_all('a',{'class':'IIJDn'})"
      ],
      "metadata": {
        "id": "vUiimRKrJvd1"
      },
      "execution_count": null,
      "outputs": []
    },
    {
      "cell_type": "code",
      "source": [
        "len(results)"
      ],
      "metadata": {
        "colab": {
          "base_uri": "https://localhost:8080/"
        },
        "id": "KmLrrcsoKuNw",
        "outputId": "6b30c940-0410-4d90-9f85-4c27587cbd70"
      },
      "execution_count": null,
      "outputs": [
        {
          "output_type": "execute_result",
          "data": {
            "text/plain": [
              "18"
            ]
          },
          "metadata": {},
          "execution_count": 11
        }
      ]
    },
    {
      "cell_type": "code",
      "source": [
        "car_details=soup.find_all('h3',{'class':'_11dVb'})"
      ],
      "metadata": {
        "id": "FivdmzfWK6xk"
      },
      "execution_count": null,
      "outputs": []
    },
    {
      "cell_type": "code",
      "source": [
        "len(car_details)"
      ],
      "metadata": {
        "colab": {
          "base_uri": "https://localhost:8080/"
        },
        "id": "dM7OFjJjLYhb",
        "outputId": "2452f313-b5b1-4f23-b607-a790ea6693e3"
      },
      "execution_count": null,
      "outputs": [
        {
          "output_type": "execute_result",
          "data": {
            "text/plain": [
              "18"
            ]
          },
          "metadata": {},
          "execution_count": 13
        }
      ]
    },
    {
      "cell_type": "code",
      "source": [
        "details=[]\n",
        "for i in car_details:\n",
        "    details.append(i.text)"
      ],
      "metadata": {
        "id": "NOBG4RLAMlDy"
      },
      "execution_count": null,
      "outputs": []
    },
    {
      "cell_type": "code",
      "source": [
        "details"
      ],
      "metadata": {
        "colab": {
          "base_uri": "https://localhost:8080/"
        },
        "id": "HkoYtLymMxlP",
        "outputId": "faed67e9-97b0-416e-a6c4-195673552d03"
      },
      "execution_count": null,
      "outputs": [
        {
          "output_type": "execute_result",
          "data": {
            "text/plain": [
              "['2012 Toyota Etios Liva G',\n",
              " '2018 Toyota YARIS VX MT',\n",
              " '2021 Toyota URBAN CRUISER PREMIUM GRADE MT',\n",
              " '2011 Toyota Etios Liva G',\n",
              " '2022 Toyota URBAN CRUISER PREMIUM GRADE AT',\n",
              " '2011 Toyota Etios Liva G',\n",
              " '2018 Toyota Corolla Altis VL CVT PETROL',\n",
              " '2017 Toyota Corolla Altis VL CVT PETROL',\n",
              " '2019 Toyota Glanza G CVT',\n",
              " '2018 Toyota Corolla Altis VL CVT PETROL',\n",
              " '2020 Toyota Glanza V CVT',\n",
              " '2017 Toyota Corolla Altis VL CVT PETROL',\n",
              " '2019 Toyota Glanza V CVT',\n",
              " '2019 Toyota Glanza G CVT',\n",
              " '2011 Toyota Etios Liva G',\n",
              " '2021 Toyota URBAN CRUISER HIGH GRADE AT',\n",
              " '2012 Toyota Innova 2.5 GX 8 STR',\n",
              " '2014 Toyota Etios Liva G',\n",
              " '2013 Toyota Etios Liva G']"
            ]
          },
          "metadata": {},
          "execution_count": 12
        }
      ]
    },
    {
      "cell_type": "code",
      "source": [
        "cars = soup.find_all('a', class_='IIJDn')"
      ],
      "metadata": {
        "id": "1cvjXJz52QZK"
      },
      "execution_count": null,
      "outputs": []
    },
    {
      "cell_type": "code",
      "source": [
        "cars"
      ],
      "metadata": {
        "colab": {
          "base_uri": "https://localhost:8080/"
        },
        "id": "TjwcNHd82WLG",
        "outputId": "8f16e4db-01c6-411d-d2ef-4961b7c6ca00",
        "collapsed": true
      },
      "execution_count": null,
      "outputs": [
        {
          "output_type": "execute_result",
          "data": {
            "text/plain": [
              "[<a class=\"IIJDn\" href=\"https://www.cars24.com/buy-used-toyota-etios-liva-2012-cars-mumbai-10374437758/\" target=\"_blank\"><div><div class=\"RPKrE\"><span class=\"lazy-load-image-background blur\" style=\"color:transparent;display:inline-block\"><span class=\"\" style=\"display:inline-block\"></span></span></div><div class=\"_2YB7p\"><h3 class=\"_11dVb\">2012 Toyota Etios Liva G</h3><ul class=\"_3J2G-\"><li>52,656 km</li><li class=\"_3W_AJ\"></li><li>Petrol</li><li class=\"_3W_AJ\"></li><li>Manual</li></ul><span class=\"_3JoYA\">City Driven</span><div class=\"_2KyOK\"><strong class=\"_3RL-I\">₹2.37 Lakh</strong></div><div class=\"-EPGU\"><span class=\"_2O0yU\">EMIs from ₹7,872/month</span></div><p class=\"_3dGMY\">Free Test Drive <span>Today<!-- --> </span> <!-- --> at <span>Goregaon, Mumbai</span></p></div></div></a>,\n",
              " <a class=\"IIJDn\" href=\"https://www.cars24.com/buy-used-toyota-yaris-2018-cars-mumbai-10309084776/\" target=\"_blank\"><div><div class=\"RPKrE\"><span class=\"lazy-load-image-background blur\" style=\"color:transparent;display:inline-block\"><span class=\"\" style=\"display:inline-block\"></span></span></div><div class=\"_2YB7p\"><h3 class=\"_11dVb\">2018 Toyota YARIS VX MT</h3><ul class=\"_3J2G-\"><li>30,509 km</li><li class=\"_3W_AJ\"></li><li>Petrol</li><li class=\"_3W_AJ\"></li><li>Manual</li></ul><span class=\"_3JoYA\">Top Model</span><div class=\"_2KyOK\"><strong class=\"_3RL-I\">₹7.83 Lakh</strong><span class=\"_30QQ7\">₹8.16 Lakh</span><span class=\"YWP1x\">(33k off)</span></div><div class=\"-EPGU\"><span class=\"_2O0yU\">EMIs from ₹15,308/month</span></div><p class=\"_3dGMY\">Free Test Drive <span>Today<!-- --> </span> <!-- --> at <span>Goregaon, Mumbai</span></p></div></div></a>,\n",
              " <a class=\"IIJDn\" href=\"https://www.cars24.com/buy-used-toyota-urban-cruiser-2021-cars-mumbai-10363031717/\" target=\"_blank\"><div><div class=\"RPKrE\"><span class=\"lazy-load-image-background blur\" style=\"color:transparent;display:inline-block\"><span class=\"\" style=\"display:inline-block\"></span></span></div><div class=\"_2YB7p\"><h3 class=\"_11dVb\">2021 Toyota URBAN CRUISER PREMIUM GRADE MT</h3><ul class=\"_3J2G-\"><li>18,001 km</li><li class=\"_3W_AJ\"></li><li>Petrol</li><li class=\"_3W_AJ\"></li><li>Manual</li></ul><span class=\"_3JoYA\">Top Model</span><div class=\"_2KyOK\"><strong class=\"_3RL-I\">₹9.57 Lakh</strong></div><div class=\"-EPGU\"><span class=\"_2O0yU\">EMIs from ₹18,223/month</span></div><p class=\"_3dGMY\">Free Test Drive <span>Today<!-- --> </span> <!-- --> at <span>Goregaon, Mumbai</span></p></div></div></a>,\n",
              " <a class=\"IIJDn\" href=\"https://www.cars24.com/buy-used-toyota-etios-liva-2014-cars-mumbai-10311489756/\" target=\"_blank\"><div><div class=\"RPKrE\"><span class=\"lazy-load-image-background blur\" style=\"color:transparent;display:inline-block\"><span class=\"\" style=\"display:inline-block\"></span></span></div><div class=\"_2YB7p\"><h3 class=\"_11dVb\">2014 Toyota Etios Liva G</h3><ul class=\"_3J2G-\"><li>23,685 km</li><li class=\"_3W_AJ\"></li><li>Petrol</li><li class=\"_3W_AJ\"></li><li>Manual</li></ul><span class=\"_3JoYA\">Reg. Serviced</span><div class=\"_2KyOK\"><strong class=\"_3RL-I\">₹3.33 Lakh</strong><span class=\"_30QQ7\">₹3.68 Lakh</span><span class=\"YWP1x\">(35k off)</span></div><div class=\"-EPGU\"><span class=\"_2O0yU\">EMIs from ₹7,407/month</span></div><p class=\"_3dGMY\">Free Test Drive <span>Today<!-- --> </span> <!-- --> at <span>Seawood\n",
              " </span></p></div></div></a>,\n",
              " <a class=\"IIJDn\" href=\"https://www.cars24.com/buy-used-toyota-etios-liva-2011-cars-mumbai-10300387713/\" target=\"_blank\"><div><div class=\"RPKrE\"><span class=\"lazy-load-image-background blur\" style=\"color:transparent;display:inline-block\"><span class=\"\" style=\"display:inline-block\"></span></span></div><div class=\"_2YB7p\"><h3 class=\"_11dVb\">2011 Toyota Etios Liva G</h3><ul class=\"_3J2G-\"><li>79,643 km</li><li class=\"_3W_AJ\"></li><li>Petrol</li><li class=\"_3W_AJ\"></li><li>Manual</li></ul><span class=\"_3JoYA\">City Driven</span><div class=\"_2KyOK\"><strong class=\"_3RL-I\">₹2.33 Lakh</strong><span class=\"_30QQ7\">₹2.47 Lakh</span><span class=\"YWP1x\">(14k off)</span></div><div class=\"-EPGU\"><span class=\"_2O0yU\">EMIs from ₹10,968/month</span></div><p class=\"_3dGMY\">Free Test Drive <span>Today<!-- --> </span> <!-- --> at <span>Mulund West, Mumbai \n",
              " </span></p></div></div></a>,\n",
              " <a class=\"IIJDn\" href=\"https://www.cars24.com/buy-used-toyota-urban-cruiser-2022-cars-mumbai-10364881763/\" target=\"_blank\"><div><div class=\"RPKrE\"><span class=\"lazy-load-image-background blur\" style=\"color:transparent;display:inline-block\"><span class=\"\" style=\"display:inline-block\"></span></span></div><div class=\"_2YB7p\"><h3 class=\"_11dVb\">2022 Toyota URBAN CRUISER PREMIUM GRADE AT</h3><ul class=\"_3J2G-\"><li>33,986 km</li><li class=\"_3W_AJ\"></li><li>Petrol</li><li class=\"_3W_AJ\"></li><li>Automatic</li></ul><span class=\"_3JoYA\">Top Model</span><div class=\"_2KyOK\"><strong class=\"_3RL-I\">₹10.11 Lakh</strong><span class=\"_30QQ7\">₹10.98 Lakh</span><span class=\"YWP1x\">(87k off)</span></div><div class=\"-EPGU\"><span class=\"_2O0yU\">EMIs from ₹19,243/month</span></div><p class=\"_3dGMY\">Free Test Drive <span>Today<!-- --> </span> <!-- --> at <span>Seawood\n",
              " </span></p></div></div></a>,\n",
              " <a class=\"IIJDn\" href=\"https://www.cars24.com/buy-used-toyota-etios-liva-2011-cars-mumbai-10344882711/\" target=\"_blank\"><div><div class=\"RPKrE\"><span class=\"lazy-load-image-background blur\" style=\"color:transparent;display:inline-block\"><span class=\"\" style=\"display:inline-block\"></span></span></div><div class=\"_2YB7p\"><h3 class=\"_11dVb\">2011 Toyota Etios Liva G</h3><ul class=\"_3J2G-\"><li>77,595 km</li><li class=\"_3W_AJ\"></li><li>Petrol</li><li class=\"_3W_AJ\"></li><li>Manual</li></ul><span class=\"_3JoYA\">City Driven</span><div class=\"_2KyOK\"><strong class=\"_3RL-I\">₹2.37 Lakh</strong><span class=\"_30QQ7\">₹2.79 Lakh</span><span class=\"YWP1x\">(42k off)</span></div><div class=\"-EPGU\"><span class=\"_2O0yU\">EMIs from ₹11,156/month</span></div><p class=\"_3dGMY\">Free Test Drive <span>Today<!-- --> </span> <!-- --> at <span>Seawood\n",
              " </span></p></div></div></a>,\n",
              " <a class=\"IIJDn\" href=\"https://www.cars24.com/buy-used-toyota-corolla-altis-2018-cars-mumbai-10347757789/\" target=\"_blank\"><div><div class=\"RPKrE\"><span class=\"lazy-load-image-background blur\" style=\"color:transparent;display:inline-block\"><span class=\"\" style=\"display:inline-block\"></span></span></div><div class=\"_2YB7p\"><h3 class=\"_11dVb\">2018 Toyota Corolla Altis VL CVT PETROL</h3><ul class=\"_3J2G-\"><li>74,221 km</li><li class=\"_3W_AJ\"></li><li>Petrol</li><li class=\"_3W_AJ\"></li><li>Automatic</li></ul><span class=\"_3JoYA\">Alloy Wheels</span><div class=\"_2KyOK\"><strong class=\"_3RL-I\">₹9.58 Lakh</strong><span class=\"_30QQ7\">₹11.70 Lakh</span><span class=\"YWP1x\">(2.12L off)</span></div><div class=\"-EPGU\"><span class=\"_2O0yU\">EMIs from ₹18,235/month</span></div><p class=\"_3dGMY\">Free Test Drive <span>Today<!-- --> </span> <!-- --> at <span>Mulund West, Mumbai \n",
              " </span></p></div></div></a>,\n",
              " <a class=\"IIJDn\" href=\"https://www.cars24.com/buy-used-toyota-corolla-altis-2017-cars-mumbai-10341353786/\" target=\"_blank\"><div><div class=\"RPKrE\"><span class=\"lazy-load-image-background blur\" style=\"color:transparent;display:inline-block\"><span class=\"\" style=\"display:inline-block\"></span></span></div><div class=\"_2YB7p\"><h3 class=\"_11dVb\">2017 Toyota Corolla Altis VL CVT PETROL</h3><ul class=\"_3J2G-\"><li>56,595 km</li><li class=\"_3W_AJ\"></li><li>Petrol</li><li class=\"_3W_AJ\"></li><li>Automatic</li></ul><span class=\"_3JoYA\">Alloy Wheels</span><div class=\"_2KyOK\"><strong class=\"_3RL-I\">₹10.12 Lakh</strong><span class=\"_30QQ7\">₹12.05 Lakh</span><span class=\"YWP1x\">(1.93L off)</span></div><div class=\"-EPGU\"><span class=\"_2O0yU\">EMIs from ₹19,262/month</span></div><p class=\"_3dGMY\">Free Test Drive <span>Today<!-- --> </span> <!-- --> at <span>Mulund West, Mumbai \n",
              " </span></p></div></div></a>,\n",
              " <a class=\"IIJDn\" href=\"https://www.cars24.com/buy-used-toyota-glanza-2019-cars-mumbai-10385082749/\" target=\"_blank\"><div><div class=\"RPKrE\"><span class=\"lazy-load-image-background blur\" style=\"color:transparent;display:inline-block\"><span class=\"\" style=\"display:inline-block\"></span></span></div><div class=\"_2YB7p\"><h3 class=\"_11dVb\">2019 Toyota Glanza G CVT</h3><ul class=\"_3J2G-\"><li>16,870 km</li><li class=\"_3W_AJ\"></li><li>Petrol</li><li class=\"_3W_AJ\"></li><li>Automatic</li></ul><span class=\"_3JoYA\">Alloy Wheels</span><div class=\"_2KyOK\"><strong class=\"_3RL-I\">₹6.79 Lakh</strong><span class=\"_30QQ7\">₹7.39 Lakh</span><span class=\"YWP1x\">(60k off)</span></div><div class=\"-EPGU\"><span class=\"_2O0yU\">EMIs from ₹13,275/month</span></div><p class=\"_3dGMY\">Free Test Drive <span>Today<!-- --> </span> <!-- --> at <span>Seawood\n",
              " </span></p></div></div></a>,\n",
              " <a class=\"IIJDn\" href=\"https://www.cars24.com/buy-used-toyota-corolla-altis-2018-cars-mumbai-10368150714/\" target=\"_blank\"><div><div class=\"RPKrE\"><span class=\"lazy-load-image-background blur\" style=\"color:transparent;display:inline-block\"><span class=\"\" style=\"display:inline-block\"></span></span></div><div class=\"_2YB7p\"><h3 class=\"_11dVb\">2018 Toyota Corolla Altis VL CVT PETROL</h3><ul class=\"_3J2G-\"><li>77,581 km</li><li class=\"_3W_AJ\"></li><li>Petrol</li><li class=\"_3W_AJ\"></li><li>Automatic</li></ul><span class=\"_3JoYA\">Alloy Wheels</span><div class=\"_2KyOK\"><strong class=\"_3RL-I\">₹9.80 Lakh</strong><span class=\"_30QQ7\">₹12.38 Lakh</span><span class=\"YWP1x\">(2.58L off)</span></div><div class=\"-EPGU\"><span class=\"_2O0yU\">EMIs from ₹18,657/month</span></div><p class=\"_3dGMY\">Free Test Drive <span>Today<!-- --> </span> <!-- --> at <span>Mulund West, Mumbai \n",
              " </span></p></div></div></a>,\n",
              " <a class=\"IIJDn\" href=\"https://www.cars24.com/buy-used-toyota-glanza-2020-cars-mumbai-10329134797/\" target=\"_blank\"><div><div class=\"RPKrE\"><span class=\"lazy-load-image-background blur\" style=\"color:transparent;display:inline-block\"><span class=\"\" style=\"display:inline-block\"></span></span></div><div class=\"_2YB7p\"><h3 class=\"_11dVb\">2020 Toyota Glanza V CVT</h3><ul class=\"_3J2G-\"><li>56,916 km</li><li class=\"_3W_AJ\"></li><li>Petrol</li><li class=\"_3W_AJ\"></li><li>Automatic</li></ul><span class=\"_3JoYA\">Top Model</span><div class=\"_2KyOK\"><strong class=\"_3RL-I\">₹6.98 Lakh</strong><span class=\"_30QQ7\">₹7.86 Lakh</span><span class=\"YWP1x\">(88k off)</span></div><div class=\"-EPGU\"><span class=\"_2O0yU\">EMIs from ₹13,646/month</span></div><p class=\"_3dGMY\">Free Test Drive <span>Today<!-- --> </span> <!-- --> at <span>Goregaon, Mumbai</span></p></div></div></a>,\n",
              " <a class=\"IIJDn\" href=\"https://www.cars24.com/buy-used-toyota-corolla-altis-2017-cars-mumbai-10333453784/\" target=\"_blank\"><div><div class=\"RPKrE\"><span class=\"lazy-load-image-background blur\" style=\"color:transparent;display:inline-block\"><span class=\"\" style=\"display:inline-block\"></span></span></div><div class=\"_2YB7p\"><h3 class=\"_11dVb\">2017 Toyota Corolla Altis VL CVT PETROL</h3><ul class=\"_3J2G-\"><li>61,520 km</li><li class=\"_3W_AJ\"></li><li>Petrol</li><li class=\"_3W_AJ\"></li><li>Automatic</li></ul><span class=\"_3JoYA\">Alloy Wheels</span><div class=\"_2KyOK\"><strong class=\"_3RL-I\">₹10.21 Lakh</strong><span class=\"_30QQ7\">₹12.49 Lakh</span><span class=\"YWP1x\">(2.28L off)</span></div><div class=\"-EPGU\"><span class=\"_2O0yU\">EMIs from ₹19,434/month</span></div><p class=\"_3dGMY\">Free Test Drive <span>Today<!-- --> </span> <!-- --> at <span>Mulund West, Mumbai \n",
              " </span></p></div></div></a>,\n",
              " <a class=\"IIJDn\" href=\"https://www.cars24.com/buy-used-toyota-glanza-2019-cars-mumbai-10313688786/\" target=\"_blank\"><div><div class=\"RPKrE\"><span class=\"lazy-load-image-background blur\" style=\"color:transparent;display:inline-block\"><span class=\"\" style=\"display:inline-block\"></span></span></div><div class=\"_2YB7p\"><h3 class=\"_11dVb\">2019 Toyota Glanza V CVT</h3><ul class=\"_3J2G-\"><li>15,816 km</li><li class=\"_3W_AJ\"></li><li>Petrol</li><li class=\"_3W_AJ\"></li><li>Automatic</li></ul><span class=\"_3JoYA\">Top Model</span><div class=\"_2KyOK\"><strong class=\"_3RL-I\">₹7.93 Lakh</strong><span class=\"_30QQ7\">₹8.07 Lakh</span><span class=\"YWP1x\">(14k off)</span></div><div class=\"-EPGU\"><span class=\"_2O0yU\">EMIs from ₹15,503/month</span></div><p class=\"_3dGMY\">Free Test Drive <span>Today<!-- --> </span> <!-- --> at <span>Goregaon, Mumbai</span></p></div></div></a>,\n",
              " <a class=\"IIJDn\" href=\"https://www.cars24.com/buy-used-toyota-glanza-2019-cars-mumbai-10356986728/\" target=\"_blank\"><div><div class=\"RPKrE\"><span class=\"lazy-load-image-background blur\" style=\"color:transparent;display:inline-block\"><span class=\"\" style=\"display:inline-block\"></span></span></div><div class=\"_2YB7p\"><h3 class=\"_11dVb\">2019 Toyota Glanza G CVT</h3><ul class=\"_3J2G-\"><li>21,695 km</li><li class=\"_3W_AJ\"></li><li>Petrol</li><li class=\"_3W_AJ\"></li><li>Automatic</li></ul><span class=\"_3JoYA\">Alloy Wheels</span><div class=\"_2KyOK\"><strong class=\"_3RL-I\">₹7.28 Lakh</strong><span class=\"_30QQ7\">₹7.73 Lakh</span><span class=\"YWP1x\">(45k off)</span></div><div class=\"-EPGU\"><span class=\"_2O0yU\">EMIs from ₹14,233/month</span></div><p class=\"_3dGMY\">Free Test Drive <span>Today<!-- --> </span> <!-- --> at <span>Seawood\n",
              " </span></p></div></div></a>,\n",
              " <a class=\"IIJDn\" href=\"https://www.cars24.com/buy-used-toyota-etios-liva-2011-cars-mumbai-10340382734/\" target=\"_blank\"><div><div class=\"RPKrE\"><span class=\"lazy-load-image-background blur\" style=\"color:transparent;display:inline-block\"><span class=\"\" style=\"display:inline-block\"></span></span></div><div class=\"_2YB7p\"><h3 class=\"_11dVb\">2011 Toyota Etios Liva G</h3><ul class=\"_3J2G-\"><li>75,420 km</li><li class=\"_3W_AJ\"></li><li>Petrol</li><li class=\"_3W_AJ\"></li><li>Manual</li></ul><span class=\"_3JoYA\">100% Tyre Life</span><div class=\"_2KyOK\"><strong class=\"_3RL-I\">₹2.58 Lakh</strong><span class=\"_30QQ7\">₹2.95 Lakh</span><span class=\"YWP1x\">(37k off)</span></div><div class=\"-EPGU\"><span class=\"_2O0yU\">EMIs from ₹12,145/month</span></div><p class=\"_3dGMY\">Free Test Drive <span>Today<!-- --> </span> <!-- --> at <span>Goregaon, Mumbai</span></p></div></div></a>,\n",
              " <a class=\"IIJDn\" href=\"https://www.cars24.com/buy-used-toyota-urban-cruiser-2021-cars-mumbai-10387835753/\" target=\"_blank\"><div><div class=\"RPKrE\"><span class=\"lazy-load-image-background blur\" style=\"color:transparent;display:inline-block\"><span class=\"\" style=\"display:inline-block\"></span></span></div><div class=\"_2YB7p\"><h3 class=\"_11dVb\">2021 Toyota URBAN CRUISER HIGH GRADE AT</h3><ul class=\"_3J2G-\"><li>45,799 km</li><li class=\"_3W_AJ\"></li><li>Petrol</li><li class=\"_3W_AJ\"></li><li>Automatic</li></ul><span class=\"_3JoYA\">Alloy Wheels</span><div class=\"_2KyOK\"><strong class=\"_3RL-I\">₹9.89 Lakh</strong></div><div class=\"-EPGU\"><span class=\"_2O0yU\">EMIs from ₹18,825/month</span></div><p class=\"_3dGMY\">Free Test Drive <span>Today<!-- --> </span> <!-- --> at <span>Goregaon, Mumbai</span></p></div></div></a>,\n",
              " <a class=\"IIJDn\" href=\"https://www.cars24.com/buy-used-toyota-innova-2012-cars-mumbai-10364535759/\" target=\"_blank\"><div><div class=\"RPKrE\"><span class=\"lazy-load-image-background blur\" style=\"color:transparent;display:inline-block\"><span class=\"\" style=\"display:inline-block\"></span></span></div><div class=\"_2YB7p\"><h3 class=\"_11dVb\">2012 Toyota Innova 2.5 GX 8 STR</h3><ul class=\"_3J2G-\"><li>89,683 km</li><li class=\"_3W_AJ\"></li><li>Diesel</li><li class=\"_3W_AJ\"></li><li>Manual</li></ul><span class=\"_3JoYA\">100% Tyre Life</span><div class=\"_2KyOK\"><strong class=\"_3RL-I\">₹6.60 Lakh</strong></div><div class=\"-EPGU\"><span class=\"_2O0yU\">EMIs from ₹31,068/month</span></div><span class=\"_1MKmC\">Currently tokened</span></div></div></a>]"
            ]
          },
          "metadata": {},
          "execution_count": 17
        }
      ]
    },
    {
      "cell_type": "code",
      "source": [
        "car_price = soup.find_all('strong', class_='_3RL-I')"
      ],
      "metadata": {
        "id": "wUJLqL4pQQia"
      },
      "execution_count": null,
      "outputs": []
    },
    {
      "cell_type": "code",
      "source": [
        "car_price"
      ],
      "metadata": {
        "colab": {
          "base_uri": "https://localhost:8080/"
        },
        "id": "-dLW5B4mQphj",
        "outputId": "a7408a83-6844-4a1e-b81b-ccb2e75886a9"
      },
      "execution_count": null,
      "outputs": [
        {
          "output_type": "execute_result",
          "data": {
            "text/plain": [
              "[<strong class=\"_3RL-I\">₹2.37 Lakh</strong>,\n",
              " <strong class=\"_3RL-I\">₹7.83 Lakh</strong>,\n",
              " <strong class=\"_3RL-I\">₹9.57 Lakh</strong>,\n",
              " <strong class=\"_3RL-I\">₹3.33 Lakh</strong>,\n",
              " <strong class=\"_3RL-I\">₹2.33 Lakh</strong>,\n",
              " <strong class=\"_3RL-I\">₹10.11 Lakh</strong>,\n",
              " <strong class=\"_3RL-I\">₹2.37 Lakh</strong>,\n",
              " <strong class=\"_3RL-I\">₹9.58 Lakh</strong>,\n",
              " <strong class=\"_3RL-I\">₹10.12 Lakh</strong>,\n",
              " <strong class=\"_3RL-I\">₹6.79 Lakh</strong>,\n",
              " <strong class=\"_3RL-I\">₹9.80 Lakh</strong>,\n",
              " <strong class=\"_3RL-I\">₹6.98 Lakh</strong>,\n",
              " <strong class=\"_3RL-I\">₹10.21 Lakh</strong>,\n",
              " <strong class=\"_3RL-I\">₹7.93 Lakh</strong>,\n",
              " <strong class=\"_3RL-I\">₹7.28 Lakh</strong>,\n",
              " <strong class=\"_3RL-I\">₹2.58 Lakh</strong>,\n",
              " <strong class=\"_3RL-I\">₹9.89 Lakh</strong>,\n",
              " <strong class=\"_3RL-I\">₹6.60 Lakh</strong>]"
            ]
          },
          "metadata": {},
          "execution_count": 19
        }
      ]
    },
    {
      "cell_type": "markdown",
      "source": [
        "#Kilometers driven, Year of manufacture, Fuel type, Transmission, and Price for the assigned brand.\n"
      ],
      "metadata": {
        "id": "Jzk-8qQiScA3"
      }
    },
    {
      "cell_type": "code",
      "source": [
        "# Extract car names\n",
        "car_names = [car.text.strip() for car in soup.find_all('h3', class_='_11dVb')]\n",
        "\n",
        "# Extract car details\n",
        "car_details = []\n",
        "for details_block in soup.find_all('ul', class_='_3J2G-'):\n",
        "    details = [li.text.strip() for li in details_block.find_all('li')]\n",
        "    car_details.append(details)\n",
        "\n",
        "# Extract car prices\n",
        "car_prices = [price.text.strip() for price in soup.find_all('strong', class_='_3RL-I')]\n",
        "\n",
        "# Combine the extracted data into a list of dictionaries\n",
        "cars_data = []\n",
        "for i in range(len(car_names)):\n",
        "    cars_data.append({\n",
        "        'name': car_names[i],\n",
        "        'Year of manufacturing': car_details[i][0],\n",
        "        'Fuel type': car_details[i][1],\n",
        "        'transmission\n",
        "        'details': car_details[i],\n",
        "        'price': car_prices[i]\n",
        "    })\n",
        "\n",
        "# Print the extracted data\n",
        "for car in cars_data:\n",
        "    print(f\"Name: {car['name']}\")\n",
        "    print(f\"Details: {car['details']}\")\n",
        "    print(f\"Price: {car['price']}\")\n",
        "    print()\n"
      ],
      "metadata": {
        "colab": {
          "base_uri": "https://localhost:8080/"
        },
        "id": "AbB69neKLFFR",
        "outputId": "6020cbaa-551e-4fe5-fdc4-69da84b67a1d",
        "collapsed": true
      },
      "execution_count": null,
      "outputs": [
        {
          "output_type": "stream",
          "name": "stdout",
          "text": [
            "Name: 2012 Toyota Etios Liva G\n",
            "Details: ['52,656 km', '', 'Petrol', '', 'Manual']\n",
            "Price: ₹2.37 Lakh\n",
            "\n",
            "Name: 2018 Toyota YARIS VX MT\n",
            "Details: ['30,509 km', '', 'Petrol', '', 'Manual']\n",
            "Price: ₹7.83 Lakh\n",
            "\n",
            "Name: 2021 Toyota URBAN CRUISER PREMIUM GRADE MT\n",
            "Details: ['18,001 km', '', 'Petrol', '', 'Manual']\n",
            "Price: ₹9.57 Lakh\n",
            "\n",
            "Name: 2011 Toyota Etios Liva G\n",
            "Details: ['79,643 km', '', 'Petrol', '', 'Manual']\n",
            "Price: ₹2.33 Lakh\n",
            "\n",
            "Name: 2022 Toyota URBAN CRUISER PREMIUM GRADE AT\n",
            "Details: ['33,986 km', '', 'Petrol', '', 'Automatic']\n",
            "Price: ₹10.11 Lakh\n",
            "\n",
            "Name: 2011 Toyota Etios Liva G\n",
            "Details: ['77,595 km', '', 'Petrol', '', 'Manual']\n",
            "Price: ₹2.47 Lakh\n",
            "\n",
            "Name: 2018 Toyota Corolla Altis VL CVT PETROL\n",
            "Details: ['74,221 km', '', 'Petrol', '', 'Automatic']\n",
            "Price: ₹9.78 Lakh\n",
            "\n",
            "Name: 2017 Toyota Corolla Altis VL CVT PETROL\n",
            "Details: ['56,595 km', '', 'Petrol', '', 'Automatic']\n",
            "Price: ₹10.33 Lakh\n",
            "\n",
            "Name: 2019 Toyota Glanza G CVT\n",
            "Details: ['16,870 km', '', 'Petrol', '', 'Automatic']\n",
            "Price: ₹6.79 Lakh\n",
            "\n",
            "Name: 2018 Toyota Corolla Altis VL CVT PETROL\n",
            "Details: ['77,581 km', '', 'Petrol', '', 'Automatic']\n",
            "Price: ₹9.80 Lakh\n",
            "\n",
            "Name: 2020 Toyota Glanza V CVT\n",
            "Details: ['56,916 km', '', 'Petrol', '', 'Automatic']\n",
            "Price: ₹7.13 Lakh\n",
            "\n",
            "Name: 2017 Toyota Corolla Altis VL CVT PETROL\n",
            "Details: ['61,520 km', '', 'Petrol', '', 'Automatic']\n",
            "Price: ₹10.21 Lakh\n",
            "\n",
            "Name: 2019 Toyota Glanza V CVT\n",
            "Details: ['15,816 km', '', 'Petrol', '', 'Automatic']\n",
            "Price: ₹7.93 Lakh\n",
            "\n",
            "Name: 2019 Toyota Glanza G CVT\n",
            "Details: ['21,695 km', '', 'Petrol', '', 'Automatic']\n",
            "Price: ₹7.28 Lakh\n",
            "\n",
            "Name: 2011 Toyota Etios Liva G\n",
            "Details: ['75,420 km', '', 'Petrol', '', 'Manual']\n",
            "Price: ₹2.58 Lakh\n",
            "\n",
            "Name: 2021 Toyota URBAN CRUISER HIGH GRADE AT\n",
            "Details: ['45,799 km', '', 'Petrol', '', 'Automatic']\n",
            "Price: ₹9.89 Lakh\n",
            "\n",
            "Name: 2012 Toyota Innova 2.5 GX 8 STR\n",
            "Details: ['89,683 km', '', 'Diesel', '', 'Manual']\n",
            "Price: ₹6.60 Lakh\n",
            "\n",
            "Name: 2014 Toyota Etios Liva G\n",
            "Details: ['23,685 km', '', 'Petrol', '', 'Manual']\n",
            "Price: ₹3.33 Lakh\n",
            "\n",
            "Name: 2013 Toyota Etios Liva G\n",
            "Details: ['30,154 km', '', 'Petrol', '', 'Manual']\n",
            "Price: ₹2.51 Lakh\n",
            "\n"
          ]
        }
      ]
    },
    {
      "cell_type": "code",
      "source": [
        "car_names[0][0:4]"
      ],
      "metadata": {
        "colab": {
          "base_uri": "https://localhost:8080/",
          "height": 35
        },
        "id": "q6b2rB1gk-MO",
        "outputId": "94f0fe9e-04c9-4dd2-ee90-7999beac7718"
      },
      "execution_count": null,
      "outputs": [
        {
          "output_type": "execute_result",
          "data": {
            "text/plain": [
              "'2012'"
            ],
            "application/vnd.google.colaboratory.intrinsic+json": {
              "type": "string"
            }
          },
          "metadata": {},
          "execution_count": 23
        }
      ]
    },
    {
      "cell_type": "code",
      "source": [
        "# Extract car names\n",
        "car_names = [car.text.strip() for car in soup.find_all('h3', class_='_11dVb')]\n",
        "\n",
        "# Extract car details\n",
        "car_details = []\n",
        "for details_block in soup.find_all('ul', class_='_3J2G-'):\n",
        "    details = [li.text.strip() for li in details_block.find_all('li')]\n",
        "    details_dict = {\n",
        "        'kilometers_driven': details[0],\n",
        "        'Fuel type': details[2],\n",
        "        'transmission': details[1],\n",
        "\n",
        "    }\n",
        "    car_details.append(details_dict)\n",
        "\n",
        "# Extract car prices\n",
        "car_prices = [price.text.strip() for price in soup.find_all('strong', class_='_3RL-I')]\n",
        "\n",
        "# Combine the extracted data into a list of dictionaries\n",
        "cars_data = []\n",
        "for i in range(len(car_names)):\n",
        "    cars_data.append({\n",
        "        'name': car_names[i],\n",
        "        'details': car_details[i],\n",
        "        'price': car_prices[i]\n",
        "    })\n",
        "\n",
        "# Print the extracted data\n",
        "for car in cars_data:\n",
        "    print(f\"Name: {car['name']}\")\n",
        "    print(f\"Details: {car['details']}\")\n",
        "    print(f\"Price: {car['price']}\")\n",
        "    print()"
      ],
      "metadata": {
        "colab": {
          "base_uri": "https://localhost:8080/"
        },
        "id": "PwJTk3YBlIBW",
        "outputId": "b0a2f9c7-5982-497b-9400-dffad5a9c5b1"
      },
      "execution_count": null,
      "outputs": [
        {
          "output_type": "stream",
          "name": "stdout",
          "text": [
            "Name: 2012 Toyota Etios Liva G\n",
            "Details: {'kilometers_driven': '52,656 km', 'Fuel type': 'Petrol', 'transmission': ''}\n",
            "Price: ₹2.37 Lakh\n",
            "\n",
            "Name: 2018 Toyota YARIS VX MT\n",
            "Details: {'kilometers_driven': '30,509 km', 'Fuel type': 'Petrol', 'transmission': ''}\n",
            "Price: ₹7.83 Lakh\n",
            "\n",
            "Name: 2021 Toyota URBAN CRUISER PREMIUM GRADE MT\n",
            "Details: {'kilometers_driven': '18,001 km', 'Fuel type': 'Petrol', 'transmission': ''}\n",
            "Price: ₹9.57 Lakh\n",
            "\n",
            "Name: 2011 Toyota Etios Liva G\n",
            "Details: {'kilometers_driven': '79,643 km', 'Fuel type': 'Petrol', 'transmission': ''}\n",
            "Price: ₹2.33 Lakh\n",
            "\n",
            "Name: 2022 Toyota URBAN CRUISER PREMIUM GRADE AT\n",
            "Details: {'kilometers_driven': '33,986 km', 'Fuel type': 'Petrol', 'transmission': ''}\n",
            "Price: ₹10.11 Lakh\n",
            "\n",
            "Name: 2011 Toyota Etios Liva G\n",
            "Details: {'kilometers_driven': '77,595 km', 'Fuel type': 'Petrol', 'transmission': ''}\n",
            "Price: ₹2.47 Lakh\n",
            "\n",
            "Name: 2018 Toyota Corolla Altis VL CVT PETROL\n",
            "Details: {'kilometers_driven': '74,221 km', 'Fuel type': 'Petrol', 'transmission': ''}\n",
            "Price: ₹9.78 Lakh\n",
            "\n",
            "Name: 2017 Toyota Corolla Altis VL CVT PETROL\n",
            "Details: {'kilometers_driven': '56,595 km', 'Fuel type': 'Petrol', 'transmission': ''}\n",
            "Price: ₹10.33 Lakh\n",
            "\n",
            "Name: 2019 Toyota Glanza G CVT\n",
            "Details: {'kilometers_driven': '16,870 km', 'Fuel type': 'Petrol', 'transmission': ''}\n",
            "Price: ₹6.79 Lakh\n",
            "\n",
            "Name: 2018 Toyota Corolla Altis VL CVT PETROL\n",
            "Details: {'kilometers_driven': '77,581 km', 'Fuel type': 'Petrol', 'transmission': ''}\n",
            "Price: ₹9.80 Lakh\n",
            "\n",
            "Name: 2020 Toyota Glanza V CVT\n",
            "Details: {'kilometers_driven': '56,916 km', 'Fuel type': 'Petrol', 'transmission': ''}\n",
            "Price: ₹7.13 Lakh\n",
            "\n",
            "Name: 2017 Toyota Corolla Altis VL CVT PETROL\n",
            "Details: {'kilometers_driven': '61,520 km', 'Fuel type': 'Petrol', 'transmission': ''}\n",
            "Price: ₹10.21 Lakh\n",
            "\n",
            "Name: 2019 Toyota Glanza V CVT\n",
            "Details: {'kilometers_driven': '15,816 km', 'Fuel type': 'Petrol', 'transmission': ''}\n",
            "Price: ₹7.93 Lakh\n",
            "\n",
            "Name: 2019 Toyota Glanza G CVT\n",
            "Details: {'kilometers_driven': '21,695 km', 'Fuel type': 'Petrol', 'transmission': ''}\n",
            "Price: ₹7.28 Lakh\n",
            "\n",
            "Name: 2011 Toyota Etios Liva G\n",
            "Details: {'kilometers_driven': '75,420 km', 'Fuel type': 'Petrol', 'transmission': ''}\n",
            "Price: ₹2.58 Lakh\n",
            "\n",
            "Name: 2021 Toyota URBAN CRUISER HIGH GRADE AT\n",
            "Details: {'kilometers_driven': '45,799 km', 'Fuel type': 'Petrol', 'transmission': ''}\n",
            "Price: ₹9.89 Lakh\n",
            "\n",
            "Name: 2012 Toyota Innova 2.5 GX 8 STR\n",
            "Details: {'kilometers_driven': '89,683 km', 'Fuel type': 'Diesel', 'transmission': ''}\n",
            "Price: ₹6.60 Lakh\n",
            "\n",
            "Name: 2014 Toyota Etios Liva G\n",
            "Details: {'kilometers_driven': '23,685 km', 'Fuel type': 'Petrol', 'transmission': ''}\n",
            "Price: ₹3.33 Lakh\n",
            "\n",
            "Name: 2013 Toyota Etios Liva G\n",
            "Details: {'kilometers_driven': '30,154 km', 'Fuel type': 'Petrol', 'transmission': ''}\n",
            "Price: ₹2.51 Lakh\n",
            "\n"
          ]
        }
      ]
    },
    {
      "cell_type": "code",
      "source": [
        "import matplotlib.pyplot as plt\n",
        "import pandas as pd\n",
        "\n",
        "# Create a dictionary with the car data\n",
        "car_data = {\n",
        "    'Name': [\n",
        "        '2012 Toyota Etios Liva G', '2018 Toyota YARIS VX MT', '2021 Toyota URBAN CRUISER PREMIUM GRADE MT',\n",
        "        '2011 Toyota Etios Liva G', '2022 Toyota URBAN CRUISER PREMIUM GRADE AT', '2011 Toyota Etios Liva G',\n",
        "        '2018 Toyota Corolla Altis VL CVT PETROL', '2017 Toyota Corolla Altis VL CVT PETROL',\n",
        "        '2019 Toyota Glanza G CVT', '2018 Toyota Corolla Altis VL CVT PETROL', '2020 Toyota Glanza V CVT',\n",
        "        '2017 Toyota Corolla Altis VL CVT PETROL', '2019 Toyota Glanza V CVT', '2019 Toyota Glanza G CVT',\n",
        "        '2011 Toyota Etios Liva G', '2021 Toyota URBAN CRUISER HIGH GRADE AT', '2012 Toyota Innova 2.5 GX 8 STR',\n",
        "        '2014 Toyota Etios Liva G', '2013 Toyota Etios Liva G'\n",
        "    ],\n",
        "    'Kilometers_Driven': [\n",
        "        52656, 30509, 18001, 79643, 33986, 77595, 74221, 56595, 16870, 77581, 56916, 61520, 15816, 21695,\n",
        "        75420, 45799, 89683, 23685, 30154\n",
        "    ],\n",
        "    'Fuel_Type': [\n",
        "        'Petrol', 'Petrol', 'Petrol', 'Petrol', 'Petrol', 'Petrol', 'Petrol', 'Petrol', 'Petrol', 'Petrol',\n",
        "        'Petrol', 'Petrol', 'Petrol', 'Petrol', 'Petrol', 'Petrol', 'Diesel', 'Petrol', 'Petrol'\n",
        "    ],\n",
        "    'Transmission': [\n",
        "        '', '', '', '', '', '', '', '', '', '', '', '', '', '', '', '', '', '', ''\n",
        "    ],\n",
        "    'Price': [\n",
        "        2.37, 7.83, 9.57, 2.33, 10.11, 2.47, 9.78, 10.33, 6.79, 9.80, 7.13, 10.21, 7.93, 7.28, 2.58, 9.89, 6.60, 3.33, 2.51\n",
        "    ],\n",
        "    'Year': [\n",
        "        2012, 2018, 2021, 2011, 2022, 2011, 2018, 2017, 2019, 2018, 2020, 2017, 2019, 2019, 2011, 2021, 2012, 2014, 2013\n",
        "    ]\n",
        "}\n"
      ],
      "metadata": {
        "id": "ZGIjMfZImha4"
      },
      "execution_count": null,
      "outputs": []
    },
    {
      "cell_type": "code",
      "source": [
        "\n",
        "# Convert the dictionary into a pandas DataFrame\n",
        "df = pd.DataFrame(car_data)\n",
        "\n",
        "# Plot Price vs Kilometers Driven\n",
        "plt.figure(figsize=(10, 6))\n",
        "plt.scatter(df['Kilometers_Driven'], df['Price'], color='blue')\n",
        "plt.title('Price vs Kilometers Driven')\n",
        "plt.xlabel('Kilometers Driven')\n",
        "plt.ylabel('Price (Lakh)')\n",
        "plt.grid(True)\n",
        "plt.show()\n",
        "\n",
        "# Plot Price vs Fuel Type\n",
        "plt.figure(figsize=(10, 6))\n",
        "df.groupby('Fuel_Type')['Price'].mean().plot(kind='bar', color='green')\n",
        "plt.title('Average Price vs Fuel Type')\n",
        "plt.xlabel('Fuel Type')\n",
        "plt.ylabel('Average Price (Lakh)')\n",
        "plt.grid(True)\n",
        "plt.show()\n",
        "\n",
        "# Plot Price vs Year\n",
        "plt.figure(figsize=(10, 6))\n",
        "plt.scatter(df['Year'], df['Price'], color='red')\n",
        "plt.title('Price vs Year')\n",
        "plt.xlabel('Year')\n",
        "plt.ylabel('Price (Lakh)')\n",
        "plt.grid(True)\n",
        "plt.show()\n"
      ],
      "metadata": {
        "colab": {
          "base_uri": "https://localhost:8080/",
          "height": 1000
        },
        "id": "NNhBTAZE3q9q",
        "outputId": "68411c40-ede9-4cc1-9d1a-8688fa50b361"
      },
      "execution_count": null,
      "outputs": [
        {
          "output_type": "display_data",
          "data": {
            "text/plain": [
              "<Figure size 1000x600 with 1 Axes>"
            ],
            "image/png": "[encoded data removed]"
          },
          "metadata": {}
        },
        {
          "output_type": "display_data",
          "data": {
            "text/plain": [
              "<Figure size 1000x600 with 1 Axes>"
            ],
            "image/png": "[encoded data removed]"
          },
          "metadata": {}
        },
        {
          "output_type": "display_data",
          "data": {
            "text/plain": [
              "<Figure size 1000x600 with 1 Axes>"
            ],
            "image/png": "[encoded data removed]"
          },
          "metadata": {}
        }
      ]
    },
    {
      "cell_type": "code",
      "source": [],
      "metadata": {
        "id": "DN-AHFEq4zN9"
      },
      "execution_count": null,
      "outputs": []
    }
  ]
}